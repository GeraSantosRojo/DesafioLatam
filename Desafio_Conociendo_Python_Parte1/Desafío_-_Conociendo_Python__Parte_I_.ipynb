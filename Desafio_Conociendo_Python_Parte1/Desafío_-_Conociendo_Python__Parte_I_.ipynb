{
 "cells": [
  {
   "cell_type": "markdown",
   "id": "89994b0c-4b0c-4163-8f2a-1f085ceb45b9",
   "metadata": {},
   "source": [
    "# 1. Calculando el salario semanal\n",
    "Un vendedor gana un salario base de $500 más una comisión del 10% sobre sus ventas totales. Escribe un programa donde se pueda ingresar el monto de las ventas totales del vendedor y calcule su salario total."
   ]
  },
  {
   "cell_type": "code",
   "execution_count": 1,
   "id": "b352c41c-eb99-48ca-8ee5-6d0f3a9872d5",
   "metadata": {},
   "outputs": [
    {
     "name": "stdin",
     "output_type": "stream",
     "text": [
      "Ingresa valor total de los items vendidos: 5\n"
     ]
    },
    {
     "name": "stdout",
     "output_type": "stream",
     "text": [
      "El salario total del vendedor es 500.5\n"
     ]
    }
   ],
   "source": [
    "#Definir Variables\n",
    "salarioBase=(500)\n",
    "comision=(0.10)\n",
    "#Seccion de input, ingresar los productos vendidos y su precio\n",
    "precioDeItems=float(input(\"Ingresa valor total de los items vendidos:\"))\n",
    "#Seccion de cálculos\n",
    "ventasTotales=(precioDeItems)\n",
    "salarioTotal=(salarioBase + (ventasTotales * comision))\n",
    "#Impresion\n",
    "print(f'El salario total del vendedor es {salarioTotal}')"
   ]
  },
  {
   "cell_type": "markdown",
   "id": "df16a18b-ed85-4901-afb7-1a84b18eac9b",
   "metadata": {},
   "source": [
    "Se definen las variable que vamos a utilizar, en este caso salarioBase y comision, a las cuales les asignamos unos valores.\n",
    "salarioBase y comision.\n",
    "Pasamos a la seccion de entrada utilizando la funcion input. Se le pide al usuario ingresar valores totales y cantidades.\n",
    "Luego se hacen los cálculos utilizando las variables.\n",
    "Se imprime el resultado."
   ]
  },
  {
   "cell_type": "markdown",
   "id": "7fba0b1f-b0d5-4d67-bc81-c16a769121a2",
   "metadata": {},
   "source": [
    "<hr>"
   ]
  },
  {
   "cell_type": "markdown",
   "id": "b953822b-0bd4-4f86-aee9-81bfcada29a2",
   "metadata": {},
   "source": [
    "# 2. Bienvenido a la frutería virtual\n",
    "En este ejercicio, vamos a crear un diccionario vacío llamado catalogo_frutas {'fruta': precio} y agregar algunas frutas con sus precios. Luego, le pediremos al usuario que ingrese el nombre de una fruta y verificaremos si esa fruta está en el diccionario. Si la fruta está en el diccionario, mostraremos el precio al usuario. Si la fruta no está en el diccionario, le diremos al usuario que no se encuentra esa fruta en nuestra tienda."
   ]
  },
  {
   "cell_type": "code",
   "execution_count": 2,
   "id": "cfa88e61-daf0-4ad9-961c-cdd659100a2b",
   "metadata": {},
   "outputs": [
    {
     "name": "stdin",
     "output_type": "stream",
     "text": [
      "Selecciona una fruta para buscar en catalago:  Manzana\n"
     ]
    },
    {
     "name": "stdout",
     "output_type": "stream",
     "text": [
      "La fruta Manzana esta en el diccionario y cuesta $1.93\n"
     ]
    }
   ],
   "source": [
    "#Definir diccionario\n",
    "catalago_frutas={'Manzana': 1.93, \n",
    "                 'Platano': 3.44, 'Naranja': 3.48, \n",
    "                 'Fresa': 4.97}\n",
    "\n",
    "frutaBuscada = input(\"Selecciona una fruta para buscar en catalago: \")\n",
    "#Impresion\n",
    "if frutaBuscada in catalago_frutas:\n",
    "    print(f'La fruta {frutaBuscada} esta en el diccionario y cuesta ${catalago_frutas [frutaBuscada]}' )\n",
    "else:\n",
    "    print(f'La fruta {frutaBuscada} no esta en el diccionario')"
   ]
  },
  {
   "cell_type": "markdown",
   "id": "617cc105-acd5-4dc0-bd02-ab19b867c88b",
   "metadata": {},
   "source": [
    "Se define el diccionario, donde se incluye el tipo de fruta y su valor en el mercado.\n",
    "Se genera una variable que contiene la funcion input, donde se le solicita al usuario introducir una fruta.\n",
    "Utilizamos las estructuras de control para generar condiciones entre frutaBuscada que ingresa el usuario y el diccionario catalago_frutas.\n",
    "\n",
    "Si la fruta que el usuario escribe, se encuentra en el diccionario, se imprime mensaje y el precio de la fruta.\n",
    "Si no se encuentra la fruta en el diccionario, se imprime mensaje de que no se encuentra."
   ]
  },
  {
   "cell_type": "markdown",
   "id": "90c7ee49-ae68-4fc8-868f-fad445030e73",
   "metadata": {},
   "source": [
    "<hr>"
   ]
  },
  {
   "cell_type": "markdown",
   "id": "e396eae1-e809-41cd-a752-0510b5de48e1",
   "metadata": {},
   "source": [
    "# 3. Bienvenido al casino\n",
    "En este juego, tienes que lanzar dos dados y el programa mostrará los valores obtenidos en cada dado y la suma de ambos valores. Debes generar dos números aleatorios entre 1 y 6 que representan los valores obtenidos en cada dado usando la librería random. Luego, el programa debe mostrar los valores obtenidos en cada dado y la suma de ambos valores en la pantalla."
   ]
  },
  {
   "cell_type": "code",
   "execution_count": 3,
   "id": "4d4f581c-8928-44c8-8b47-4a2b55e9f4be",
   "metadata": {},
   "outputs": [
    {
     "name": "stdout",
     "output_type": "stream",
     "text": [
      "El resultado del primer dado es 3\n",
      "El resultado del segundo dado es 2\n",
      "El resultado de la suma de dos dados es 5\n"
     ]
    }
   ],
   "source": [
    "import random\n",
    "#Definir variables\n",
    "dado1 = random.randint(1,6)\n",
    "dado2 = random.randint(1,6)\n",
    "sumaDeDados = (dado1 + dado2)\n",
    "#Impresion\n",
    "print(f'El resultado del primer dado es {dado1}')\n",
    "print(f'El resultado del segundo dado es {dado2}')\n",
    "print(f'El resultado de la suma de dos dados es {sumaDeDados}')"
   ]
  },
  {
   "cell_type": "markdown",
   "id": "a50b07ba-df28-4b79-9bf6-f3230fe09efc",
   "metadata": {},
   "source": [
    "Se importa el módulo random\n",
    "Se definen variables a utilizar donde guardamos random.randint, donde indicamos que genere un numero aleatorio entre el rango 1 y 6.\n",
    "Se hace la suma de los dados que anteriormente asignamos.\n",
    "Se imprime el requerimiento del ejercicio.\n",
    "El resultado del primer dado, luego el resultado del segundo dado y por ultimo la suma de los dos numeros proporcionados."
   ]
  },
  {
   "cell_type": "markdown",
   "id": "19a09a16-e74b-431a-8185-cc4c9c22b362",
   "metadata": {},
   "source": [
    "<hr>"
   ]
  },
  {
   "cell_type": "markdown",
   "id": "2c76aac4-e12a-4b4a-af4d-d043d61ca422",
   "metadata": {},
   "source": [
    "# 4. Calculadora de chocolate\n",
    "Crea un programa que calcule la cantidad de chocolate que puedes comer sin pasarte de tu límite diario de calorías. El programa debe preguntar al usuario su límite diario de calorías y la cantidad de calorías que tiene una porción de chocolate. Luego, debe calcular la cantidad máxima de chocolate que se puede comer sin exceder el límite diario de calorías y mostrarla en pantalla."
   ]
  },
  {
   "cell_type": "code",
   "execution_count": 4,
   "id": "a83ff225-5aab-477f-a1a3-8ec06031accd",
   "metadata": {},
   "outputs": [
    {
     "name": "stdin",
     "output_type": "stream",
     "text": [
      "Cual es tu limite diario de calorías? 2500\n",
      "Cuantas calorías tiene el chocolate? 600\n"
     ]
    },
    {
     "name": "stdout",
     "output_type": "stream",
     "text": [
      "Puedes comer 4 chocolates sin pasar tu limite\n"
     ]
    }
   ],
   "source": [
    "limiteCalorias=int(input('Cual es tu limite diario de calorías?')) \n",
    "caloriasChocolate=int(input('Cuantas calorías tiene el chocolate?'))\n",
    "\n",
    "if caloriasChocolate > 0:\n",
    "    porcionesMaxima= limiteCalorias // caloriasChocolate\n",
    "    print(f'Puedes comer {porcionesMaxima} chocolates sin pasar tu limite')\n",
    "else:\n",
    "    print(f'Tienes que ingresar un valor de porcion mayor que 0')"
   ]
  },
  {
   "cell_type": "markdown",
   "id": "2f5c111c-3a4c-43af-8965-b096b88cc89e",
   "metadata": {},
   "source": [
    "Se definen variables como limiteCalorias y caloriasChocolate, a estas dos variables se le agrega un input donde se le solicita al usuario un tipo de valor entero.\n",
    "Luego se hace una condicional comenzando con if, donde se espera que se ingrese una cantidad de calorias que debe ser mayor a 0 para no trabajar con numeros negativos.\n",
    "Se hace la operacion de porciones maximas haciendo una division en enteros entre el limite de calorias y las calorias del chocolate anteriormente ingresadas en las variables.\n",
    "Despues del cálculo se imprime cuanto más chocolate se puede comer sin pasar el límite.\n",
    "En caso de que exista un numero que no sea mayor a 0, se imprime que es necesario ingresar un valor mayor a 0"
   ]
  },
  {
   "cell_type": "code",
   "execution_count": null,
   "id": "d72b2087-141c-4742-b2f1-6414ace53df8",
   "metadata": {},
   "outputs": [],
   "source": []
  }
 ],
 "metadata": {
  "kernelspec": {
   "display_name": "Python 3 (ipykernel)",
   "language": "python",
   "name": "python3"
  },
  "language_info": {
   "codemirror_mode": {
    "name": "ipython",
    "version": 3
   },
   "file_extension": ".py",
   "mimetype": "text/x-python",
   "name": "python",
   "nbconvert_exporter": "python",
   "pygments_lexer": "ipython3",
   "version": "3.13.1"
  }
 },
 "nbformat": 4,
 "nbformat_minor": 5
}
