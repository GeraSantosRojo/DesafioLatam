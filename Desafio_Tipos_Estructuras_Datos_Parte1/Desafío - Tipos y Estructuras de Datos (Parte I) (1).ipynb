{
 "cells": [
  {
   "cell_type": "markdown",
   "id": "a8d202b4-099b-44fe-be73-3e9070d27edd",
   "metadata": {},
   "source": [
    "### Desafío - Tipos y Estructuras de Datos (Parte I)\n",
    "En esta ocasión tendrás la oportunidad de aplicar los conceptos aprendidos en la sesión, y\n",
    "que deberás resolverlos utilizando Jupyter Notebook.\n",
    "Una vez resueltos los ejercicios, debes subir el archivo de Jupyter Notebook a la plataforma\n",
    "del curso. Lee todo el documento antes de comenzar el desarrollo individual, para\n",
    "asegurarte de tener el máximo de puntaje y enfocar bien los esfuerzos. Asegúrate de seguir\n",
    "las instrucciones específicas en cada ejercicio y de completar los requerimientos\n",
    "adicionales, si los hubiera. ¡A disfrutar programando!\n",
    "Tiempo asociado: 2 horas cronológicas"
   ]
  },
  {
   "cell_type": "markdown",
   "id": "46cd33b2-26cd-4ce2-97d8-c04dc323c10e",
   "metadata": {},
   "source": [
    "# Descripción\n",
    "1. Usando la siguiente lista:\n",
    "lista = [\"manzana\", \"pera\", \"naranja\", \"plátano\", \"kiwi\", \"uva\", \"piña\",\n",
    "\"mango\", \"sandía\", \"melón\"]\n",
    "\n",
    "a. Imprime el quinto elemento de la lista.\n",
    "\n",
    "b. Imprime del cuarto al sexto inclusive.\n",
    "\n",
    "c. Elimina el elemento en la posición 3\n",
    "\n",
    "d. Agrega dos nuevos elementos a la lista\n",
    "\n",
    "e. Ordena la lista alfabéticamente.\n",
    "\n",
    "f. Genera un diccionario usando lista1 como llaves y lista como valores.\n",
    "\n",
    "lista1 = [\"uno\", \"dos\", \"tres\", \"cuatro\", \"cinco\", \"seis\", \"siete\",\n",
    "\"ocho\", \"nueve\", \"diez\"]\n"
   ]
  },
  {
   "cell_type": "code",
   "execution_count": 3,
   "id": "a8e1cc2c-b999-403b-82d2-d95284d21f02",
   "metadata": {},
   "outputs": [
    {
     "name": "stdout",
     "output_type": "stream",
     "text": [
      "\n",
      "\n",
      "Imprime el quinto elemento: plátano\n",
      "\n",
      "\n",
      "Imprime del cuarto al sexto: ['plátano', 'kiwi', 'uva']\n",
      "\n",
      "\n",
      "Se elimina el elemento 3 de la lista: naranja\n",
      "\n",
      "\n",
      "Se agregan dos frutas a la lista: ['manzana', 'pera', 'plátano', 'kiwi', 'uva', 'piña', 'mango', 'sandía', 'melón', 'papaya', 'limón']\n",
      "\n",
      "\n",
      "Lista ordenada alfabeticamente ['kiwi', 'limón', 'mango', 'manzana', 'melón', 'papaya', 'pera', 'piña', 'plátano', 'sandía', 'uva']\n",
      "\n",
      "\n",
      "Cantidad de frutas 10\n",
      "Cantidad de numero 10\n",
      "\n",
      "\n",
      "Diccionaro con lista1 como llaves y lista como valores: {'uno': 'kiwi', 'dos': 'limón', 'tres': 'mango', 'cuatro': 'manzana', 'cinco': 'melón', 'seis': 'papaya', 'siete': 'pera', 'ocho': 'piña', 'nueve': 'plátano', 'diez': 'sandía'}\n"
     ]
    }
   ],
   "source": [
    "lista = [\"manzana\", \"pera\", \"naranja\", \"plátano\", \"kiwi\", \"uva\", \"piña\", \"mango\", \"sandía\", \"melón\"]\n",
    "lista1 = [\"uno\", \"dos\", \"tres\", \"cuatro\", \"cinco\", \"seis\", \"siete\", \"ocho\", \"nueve\", \"diez\"]\n",
    "print('\\n')\n",
    "# Imprime el quinto elemento de la lista.\n",
    "print('Imprime el quinto elemento:', lista[3])\n",
    "print('\\n')\n",
    "# mprime del cuarto al sexto inclusive.\n",
    "print('Imprime del cuarto al sexto:', lista[3:6])\n",
    "print('\\n')\n",
    "# Elimina el elemento en la posición 3.\n",
    "remover_fruta = lista.pop(2)\n",
    "print('Se elimina el elemento 3 de la lista:', remover_fruta)\n",
    "print('\\n')\n",
    "# Agrega dos nuevos elementos a la lista.\n",
    "lista.append('papaya')\n",
    "lista.append('limón')\n",
    "print('Se agregan dos frutas a la lista:', lista)\n",
    "print('\\n')\n",
    "# Ordena la lista alfabéticamente.\n",
    "lista.sort()\n",
    "print('Lista ordenada alfabeticamente', lista)\n",
    "print('\\n')\n",
    "# Genera un diccionario usando lista1 como llaves y lista como valores.\n",
    "lista.pop() # Se elimina una fruta para que tenga mismos elementos que la lista1.\n",
    "\n",
    "conteo_lista = len(lista)\n",
    "print('Cantidad de frutas', conteo_lista)\n",
    "conteo_numero = len(lista1)\n",
    "print('Cantidad de numero', conteo_numero)\n",
    "print('\\n')\n",
    "dict_de_frutas = dict(zip(lista1, lista))\n",
    "print('Diccionaro con lista1 como llaves y lista como valores:', dict_de_frutas)"
   ]
  },
  {
   "cell_type": "markdown",
   "id": "10c3d701-1e90-435d-a6a0-e1d94777f68e",
   "metadata": {},
   "source": [
    "# 2. Fabricación de cerveza artesanal\n",
    "El LIC y el LSC son calculados utilizando la media y la desviación estándar de los datos del\n",
    "proceso. La idea es que la mayoría de los datos del proceso se encuentren dentro de los límites\n",
    "de control (entre el LIC y el LSC), y si un dato cae fuera de estos límites, se puede considerar\n",
    "que el proceso está fuera de control y se requiere una acción correctiva para investigar y\n",
    "corregir la causa de la variación. \n",
    "\n",
    "El valor del LIC se calcula como la media menos tres veces la\n",
    "desviación estándar, y el valor del LSC se calcula como la media más tres veces la\n",
    "desviación estándar. Estos límites representan el rango en el que la mayoría de los datos del\n",
    "proceso deberían estar.\n",
    "\n",
    "*Para poder asegurar de que la cantidad de alcohol en cada lote de cerveza sea consistente,\n",
    "debes medir el porcentaje de alcohol de cada lote y registrar los datos en una hoja de cálculo.\n",
    "Esta información ya ha sido recolectada y se encuentra en el archivo alcohol_cerveza.csv.\n",
    "El objetivo del ejercicio es calcular la media, la desviación estándar, el LIC y el LSC del\n",
    "porcentaje de alcohol y guardarlos en variables.*\n",
    "\n",
    "*Para asegurarte de que los lotes de cerveza se estén elaborando de forma consistente y que el\n",
    "nivel de alcohol sea el adecuado, una vez calculadas las medidas anteriores, indicar cuáles\n",
    "valores quedarían fuera de los límites de control y cuántos son.*\n",
    "\n"
   ]
  },
  {
   "cell_type": "code",
   "execution_count": 6,
   "id": "d487610d-156a-427e-869d-19390a4ce3c1",
   "metadata": {},
   "outputs": [
    {
     "name": "stdout",
     "output_type": "stream",
     "text": [
      "Los resultados son\n"
     ]
    },
    {
     "data": {
      "text/plain": [
       "{'Promedio': 5.005334665334665,\n",
       " 'Limite superior de control': 6.053381426681717,\n",
       " 'Limite inferior de control': 3.9572879039876123,\n",
       " 'Desviación estándar': 0.34934892044901755}"
      ]
     },
     "execution_count": 6,
     "metadata": {},
     "output_type": "execute_result"
    }
   ],
   "source": [
    "# Comenzamos importanto y nombrando a numpy\n",
    "import numpy as np\n",
    "array = np.loadtxt('alcohol_cerveza.csv', delimiter = ',', dtype = float)\n",
    "\n",
    "# Calculamos la media.\n",
    "media = np.mean(array)\n",
    "\n",
    "# Calculamos la desviacion estandar.\n",
    "desviacion = np.std(array)\n",
    "\n",
    "# Calculamos los limites lic y lsc.\n",
    "lic = media - (3 * desviacion)\n",
    "lsc = media + (3 * desviacion)\n",
    "\n",
    "resultados = {\n",
    "    'Promedio': media,\n",
    "    'Limite superior de control': lsc,\n",
    "    'Limite inferior de control': lic,\n",
    "    'Desviación estándar': desviacion,\n",
    "}\n",
    "\n",
    "print('Los resultados son')\n",
    "resultados"
   ]
  },
  {
   "cell_type": "code",
   "execution_count": 8,
   "id": "b4f5da0d-4fcc-461c-ad36-f859303780b8",
   "metadata": {},
   "outputs": [
    {
     "name": "stdout",
     "output_type": "stream",
     "text": [
      "La cantidad de datos fuera de limites son 2, y son los siguientes:\n",
      "-- 0.0\n",
      "-- 3.87\n"
     ]
    }
   ],
   "source": [
    "# Filtramos\n",
    "out_control = array[np.logical_or(array < lic, array > lsc)]\n",
    "# Impresion del resultado de la cantidad de numeros fuera y cuales son.\n",
    "print(f'La cantidad de datos fuera de limites son {len(out_control)}, y son los siguientes:')\n",
    "for n in out_control:\n",
    "    print('--', n)"
   ]
  },
  {
   "cell_type": "code",
   "execution_count": null,
   "id": "26d36574-2093-4baf-b663-e02a5d7e70fd",
   "metadata": {},
   "outputs": [],
   "source": []
  }
 ],
 "metadata": {
  "kernelspec": {
   "display_name": "Python 3 (ipykernel)",
   "language": "python",
   "name": "python3"
  },
  "language_info": {
   "codemirror_mode": {
    "name": "ipython",
    "version": 3
   },
   "file_extension": ".py",
   "mimetype": "text/x-python",
   "name": "python",
   "nbconvert_exporter": "python",
   "pygments_lexer": "ipython3",
   "version": "3.12.7"
  }
 },
 "nbformat": 4,
 "nbformat_minor": 5
}
