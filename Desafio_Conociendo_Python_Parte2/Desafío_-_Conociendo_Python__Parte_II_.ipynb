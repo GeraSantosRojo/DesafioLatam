{
 "cells": [
  {
   "cell_type": "markdown",
   "id": "baf70ae5-7955-464e-92dc-61768b80e2a8",
   "metadata": {},
   "source": [
    "# 1. Ejercicio 1: Suma de números pares"
   ]
  },
  {
   "cell_type": "markdown",
   "id": "d948109e-e4ed-493a-bbb2-e7a1c63963d4",
   "metadata": {},
   "source": [
    "Escribe un programa que pida al usuario dos números enteros y calcule la suma de\n",
    "todos los números pares entre ellos. El programa deberá imprimir el resultado. (hint:\n",
    "utilice la función range() para generar la secuencia de números enteros)."
   ]
  },
  {
   "cell_type": "code",
   "execution_count": 64,
   "id": "6055792a-1a65-4c9e-b136-0ad7b2bb32e5",
   "metadata": {},
   "outputs": [
    {
     "name": "stdin",
     "output_type": "stream",
     "text": [
      "Ingresa el primer numero entero: 10\n",
      "Ingresa el segundo numero entero: 20\n"
     ]
    },
    {
     "name": "stdout",
     "output_type": "stream",
     "text": [
      "La suma de todos los numeros pares entre 10 y 20 es: 90\n"
     ]
    }
   ],
   "source": [
    "#Definir variables\n",
    "num1 = int(input('Ingresa el primer numero entero:'))\n",
    "num2 = int(input('Ingresa el segundo numero entero:'))\n",
    "#Definir variables con una prueba de error como min/max, para identificar cual numero es menor y cual es mayor sin importar el orden del input del usuario.\n",
    "init = min(num1, num2)\n",
    "end = max(num1, num2)\n",
    "#Aqui se realiza el calculo, se hace una suma de la expresion en el bucle de numeros inicio y fin + 1 y por ultimo filtra solo numeros pares.\n",
    "sumarPares = 0 \n",
    "for n in range (init, end + 1): \n",
    "                 if n % 2 == 0:\n",
    "                     sumarPares += n\n",
    "#Impresion de resultados\n",
    "print (f'La suma de todos los numeros pares entre {init} y {end} es: {sumarPares}')"
   ]
  },
  {
   "cell_type": "markdown",
   "id": "f62e8389-d09c-4091-9e40-c286393866f8",
   "metadata": {},
   "source": [
    "Comenzamos definiendo variables las cuales seran introducidas por el usuario.\n",
    "Asignaremos 2 variables a los resultados dados por el usuario para controlar el minimo y máximo sin importar el orden que el usuario haya ingresado los datos.\n",
    "\n",
    "Comenzamos haciendo el calculo asignando una variable en 0 llamada sumarPares, esta la usaremos para acumular la cantidad de los numeros pares.\n",
    "\n",
    "Luego creamos un bucle con for donde le indicamos un rango para iterar segun los numeros que proporcionó el usuario desde el minimo hasta el maximo.\n",
    "\n",
    "Despues creamos una condicional if donde indicamos que el resto de la division entre la expresion y 2 debe ser igual a 0 para poder sumar la cantidad, luego aparece la variable sumarPares que es donde le vamos agregando cada numero par del ciclo."
   ]
  },
  {
   "cell_type": "markdown",
   "id": "85ea2d58-3462-4fea-9cc7-4ca290048039",
   "metadata": {},
   "source": [
    "# 2. Ejercicio 2: Calculadora de áreas"
   ]
  },
  {
   "cell_type": "markdown",
   "id": "127e95b5-a06a-457c-845a-f3a28ac28d13",
   "metadata": {},
   "source": [
    "Escribe un programa que pida al usuario el tipo de figura geométrica de la que quiere\n",
    "calcular el área (cuadrado, triángulo o círculo) y las medidas correspondientes. El\n",
    "programa deberá calcular y mostrar el área de la figura seleccionada. (hint: para\n",
    "obtener el número pi puedes utilizar la librería math)\n"
   ]
  },
  {
   "cell_type": "code",
   "execution_count": 67,
   "id": "535cf878-9f6e-4a67-96b4-49f8a912fd3d",
   "metadata": {},
   "outputs": [
    {
     "name": "stdout",
     "output_type": "stream",
     "text": [
      "Selecciona la figura geométrica para calcular el área:\n",
      "1. Cuadrado\n",
      "2. Triángulo\n",
      "3. Círculo\n"
     ]
    },
    {
     "name": "stdin",
     "output_type": "stream",
     "text": [
      "Ingresa el numero correspondiente (1, 2, 3):  1\n",
      "Ingresa la longitud del lado del cuadrado en centímetros:  20\n"
     ]
    },
    {
     "name": "stdout",
     "output_type": "stream",
     "text": [
      "El area del cuadrado es: 400.00 cm\n"
     ]
    }
   ],
   "source": [
    "import math\n",
    "\n",
    "print(\"Selecciona la figura geométrica para calcular el área:\")\n",
    "print(\"1. Cuadrado\")\n",
    "print(\"2. Triángulo\")\n",
    "print(\"3. Círculo\")\n",
    "\n",
    "seleccion = int(input('Ingresa el numero correspondiente (1, 2, 3): '))\n",
    "\n",
    "if seleccion == 1: #Este es el cuadrado.\n",
    "    lado = float(input('Ingresa la longitud del lado del cuadrado en centímetros: '))\n",
    "    area = lado ** 2\n",
    "    #En la impresion se pone .2f para que arroje un numero flotante de 2 decimales.\n",
    "    print(f'El area del cuadrado es: {area:.2f} cm')\n",
    "    \n",
    "elif seleccion == 2: #Este es el Tríangulo.\n",
    "    altura = float(input('Ingresa la altura del tríangulo en centímetros: '))\n",
    "    area = ((base*altura) / 2)\n",
    "    #En la impresion se pone .2f para que arroje un numero flotante de 2 decimales.\n",
    "    print(f'El area del triangulo es: {area:.2f} cm')\n",
    "    \n",
    "elif seleccion == 3: #Este es el Círculo.\n",
    "    radio = float(input('Ingresa el radio del círculo en centímetros: '))\n",
    "    area = math.pi * radio ** 2\n",
    "    #En la impresion se pone .2f para que arroje un numero flotante de 2 decimales.\n",
    "    print(f'El area del circulo es: {area:.2f} cm')\n",
    "#En caso de que se eliga un numero que no sea 1, 2 o 3 saldra el siguiente mensaje.\n",
    "else:\n",
    "    print(\"Opción no válida. Por favor, selecciona 1, 2 o 3.\")"
   ]
  },
  {
   "cell_type": "markdown",
   "id": "2776bed7-ee3e-44d6-9763-8416ebcfacc5",
   "metadata": {},
   "source": [
    "Se importa la libreria math.\n",
    "\n",
    "Se hacen 4 impresiones, para indicarle al usuario de que trata el script y se le da un una lista de posibles opciones, se le pide al usuario seleccionar una figura.\n",
    "\n",
    "Depende de la respuesta del usuario existe una condicional para 1, 2 y 3, segun la figura que seleccione esta un apartado de calculos para sacar el area\n",
    "\n",
    "Para la operacion del numero 3 que es el circulo, es donde utilizamos la libreria math, guardando en una variable llamada area, el valor de pi."
   ]
  },
  {
   "cell_type": "markdown",
   "id": "8afaea9c-87a4-4367-9f61-c14c7bcfd2af",
   "metadata": {},
   "source": [
    "# 3. Ejercicio 3: Adivina el número"
   ]
  },
  {
   "cell_type": "markdown",
   "id": "f76b7661-31c7-4823-91a4-77c889e8c50b",
   "metadata": {},
   "source": [
    "Escribe un programa que genere un número aleatorio entre 1 y 100 y pida al usuario\n",
    "que adivine cuál es. El programa deberá dar pistas al usuario diciendo si el número\n",
    "que ha introducido es mayor o menor que el número aleatorio. El programa deberá\n",
    "continuar pidiendo números hasta que el usuario adivine el número correcto. (hint:\n",
    "utiliza un ciclo while para mantener al programa pidiendo números)\n"
   ]
  },
  {
   "cell_type": "code",
   "execution_count": 17,
   "id": "03834db3-eddd-4249-8de4-62235b71fda9",
   "metadata": {},
   "outputs": [
    {
     "name": "stdout",
     "output_type": "stream",
     "text": [
      "Entre el 1 y el 100, intenta adivinar que numero estoy pensando:\n"
     ]
    },
    {
     "name": "stdin",
     "output_type": "stream",
     "text": [
      "Introduce un numero 50\n"
     ]
    },
    {
     "name": "stdout",
     "output_type": "stream",
     "text": [
      "¡¡No!! el numero es mayor 🧐\n"
     ]
    },
    {
     "name": "stdin",
     "output_type": "stream",
     "text": [
      "Introduce un numero 60\n"
     ]
    },
    {
     "name": "stdout",
     "output_type": "stream",
     "text": [
      "¡¡No!! el numero es mayor 🧐\n"
     ]
    },
    {
     "name": "stdin",
     "output_type": "stream",
     "text": [
      "Introduce un numero 80\n"
     ]
    },
    {
     "name": "stdout",
     "output_type": "stream",
     "text": [
      "¡¡No!! el numero es menor 🤨\n"
     ]
    },
    {
     "name": "stdin",
     "output_type": "stream",
     "text": [
      "Introduce un numero 70\n"
     ]
    },
    {
     "name": "stdout",
     "output_type": "stream",
     "text": [
      "¡¡No!! el numero es menor 🤨\n"
     ]
    },
    {
     "name": "stdin",
     "output_type": "stream",
     "text": [
      "Introduce un numero 68\n"
     ]
    },
    {
     "name": "stdout",
     "output_type": "stream",
     "text": [
      "¡¡No!! el numero es menor 🤨\n"
     ]
    },
    {
     "name": "stdin",
     "output_type": "stream",
     "text": [
      "Introduce un numero 65\n"
     ]
    },
    {
     "name": "stdout",
     "output_type": "stream",
     "text": [
      "¡¡No!! el numero es menor 🤨\n"
     ]
    },
    {
     "name": "stdin",
     "output_type": "stream",
     "text": [
      "Introduce un numero 62\n"
     ]
    },
    {
     "name": "stdout",
     "output_type": "stream",
     "text": [
      "¡¡No!! el numero es menor 🤨\n"
     ]
    },
    {
     "name": "stdin",
     "output_type": "stream",
     "text": [
      "Introduce un numero 61\n"
     ]
    },
    {
     "name": "stdout",
     "output_type": "stream",
     "text": [
      "¡Correcto! El número era 61\n",
      "¡Lo lograste!\n"
     ]
    }
   ],
   "source": [
    "# Importar libreria random.\n",
    "import random\n",
    "#Generamos un numero aleatorio entre 1 y 100\n",
    "randnum = random.randint(1,100)\n",
    "#Indica al usuario de que va el script.\n",
    "print('Entre el 1 y el 100, intenta adivinar que numero estoy pensando:')\n",
    "\n",
    "#Se agrega un condador de intentos y asignamos la variables guessed como falsa para indicar que la \n",
    "#condicion no se ha cumplido, por ende el bucle while debe continuar\n",
    "guessed = False\n",
    "#Se crea un bucle while donde le indicamos que se siga corriendo si la variable guessed es igual a falso.\n",
    "while guessed == False:\n",
    "    userResponse = int(input('Introduce un numero')) #Variable solicitada al usuario, para ingresar un numero.\n",
    "\n",
    "    #Condicional if-elif-else, nos sirve para darle pistas al usuario dependiendo si el numero es mayor o menor.\n",
    "    if userResponse < randnum:\n",
    "        print('¡¡No!! el numero es mayor 🧐')\n",
    "    elif userResponse > randnum:\n",
    "        print('¡¡No!! el numero es menor 🤨')\n",
    "    else:\n",
    "        print(f'¡Correcto! El número era {randnum}')\n",
    "        guessed = True #Si se cumple Else, la variable guessed pasa a ser True y termina el ciclo whie.\n",
    "#Se imprime mensaje de entusiasmo.\n",
    "print('¡Lo lograste!')"
   ]
  },
  {
   "cell_type": "markdown",
   "id": "b9863186-5553-46d3-8a5d-6e471702ad0f",
   "metadata": {},
   "source": [
    "Comenzamos importando librerias random.\n",
    "Se genera un numero aleatorio entre 1 y 10 con random.\n",
    "Se imprime un mensaje donde se le indica al usuario de que va el script.\n",
    "\n",
    "Se asignan variables de inicializacion para indicar cuando el usuario le atine al numero.\n",
    "\n",
    "Se solicita una entrada al usuario para ingresar un numero.\n",
    "\n",
    "Condicional for para hacer la comprobacion del numero ingresado.\n",
    "\n",
    "Luego fin del juego."
   ]
  },
  {
   "cell_type": "markdown",
   "id": "4e5301d4-06b7-470e-8156-880120065148",
   "metadata": {},
   "source": [
    "# 4. Ejercicio 4: Carrera de pollos"
   ]
  },
  {
   "cell_type": "markdown",
   "id": "2007d7ee-fdcd-4fdb-a311-c8a7a7df983b",
   "metadata": {},
   "source": [
    "Crea un programa que simule segundo a segundo la acción de un pollo que recorre una\n",
    "distancia de 100 metros. Pide al usuario que ingrese la velocidad a la que puede correr el\n",
    "pollo, y usando un ciclo while muestra un emoji de pollo 🐥 que se vaya moviendo hacia la\n",
    "derecha en cada impresión, como se muestra en los ejemplos."
   ]
  },
  {
   "cell_type": "code",
   "execution_count": 20,
   "id": "821b067a-d91f-4b0c-beff-ae2e9a8df8d2",
   "metadata": {
    "scrolled": true
   },
   "outputs": [
    {
     "name": "stdin",
     "output_type": "stream",
     "text": [
      "Ingrese la velocidad del 🐥 (m/s):  10\n"
     ]
    },
    {
     "name": "stdout",
     "output_type": "stream",
     "text": [
      "____________________________________________________________________________________________________🐥\n",
      "¡El pollo llegó a la meta! 🏁\n"
     ]
    }
   ],
   "source": [
    "import time\n",
    "\n",
    "#Definir variables\n",
    "vel = float(input('Ingrese la velocidad del 🐥 (m/s): '))\n",
    "#Definir variables de iniciacion.\n",
    "posicion = 0\n",
    "distanciaTotal = 100 \n",
    "#Inicio bucle while\n",
    "while posicion < distanciaTotal:\n",
    "    posicion += vel #Mientras la posicion sea menor que la distancia total a la variable posicion se le sumara la velocidad ingresara por el usuario.\n",
    "    if posicion > distanciaTotal: #Verificamos que la posicion actual ha superado la distancia total.\n",
    "        posicion = distanciaTotal #Aseguramos que el pollo no vaya mas alla de la meta.\n",
    "\n",
    "    espacio = '_' * int(posicion)\n",
    "    print (f'{espacio}🐥')\n",
    "\n",
    "    time.sleep(1)\n",
    "\n",
    "print('¡El pollo llegó a la meta! 🏁')\n"
   ]
  },
  {
   "cell_type": "markdown",
   "id": "4ff83761-52b9-43cb-9dcc-0bce716a94d5",
   "metadata": {},
   "source": [
    "Se importa libreria time.\n",
    "\n",
    "Se define variables para la velocidad que tendra el pollo en forma de input por parte del usuario.\n",
    "Se asignan variables de iniciacion y de distancia a recorrer.\n",
    "\n",
    "Comienza bucle while donde la posicion si es menor que la distancia total, debera ir avanzando segun la velocidad proporcionada por el ususario.\n",
    "\n",
    "Se genera otra variable llamada espacio, para hacer que el pollo se pueda desplazar.\n",
    "\n",
    "Usamos la funcion time.sleep de la libreria time, para indicar que imprima secuencias cada 1 segundo."
   ]
  },
  {
   "cell_type": "code",
   "execution_count": null,
   "id": "d090e1db-a269-4756-8fe6-1c84854d70cb",
   "metadata": {},
   "outputs": [],
   "source": []
  },
  {
   "cell_type": "code",
   "execution_count": null,
   "id": "5c750f76-11bf-4a6c-a525-5759a6401f0e",
   "metadata": {},
   "outputs": [],
   "source": []
  }
 ],
 "metadata": {
  "kernelspec": {
   "display_name": "Python 3 (ipykernel)",
   "language": "python",
   "name": "python3"
  },
  "language_info": {
   "codemirror_mode": {
    "name": "ipython",
    "version": 3
   },
   "file_extension": ".py",
   "mimetype": "text/x-python",
   "name": "python",
   "nbconvert_exporter": "python",
   "pygments_lexer": "ipython3",
   "version": "3.12.7"
  }
 },
 "nbformat": 4,
 "nbformat_minor": 5
}
